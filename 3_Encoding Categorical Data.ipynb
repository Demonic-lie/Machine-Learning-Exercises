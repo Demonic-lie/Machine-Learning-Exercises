{
 "cells": [
  {
   "cell_type": "code",
   "execution_count": 1,
   "id": "c8e6e3f8-5254-4fba-9288-4499e4f18a29",
   "metadata": {},
   "outputs": [],
   "source": [
    "# Importing the necessary libraries\n",
    "import pandas as pd\n",
    "import numpy as np "
   ]
  },
  {
   "cell_type": "code",
   "execution_count": 2,
   "id": "b029d8b7-4412-477f-9788-7d16070afb46",
   "metadata": {},
   "outputs": [
    {
     "name": "stdout",
     "output_type": "stream",
     "text": [
      "     PassengerId  Survived  Pclass  \\\n",
      "0              2         1       1   \n",
      "1              4         1       1   \n",
      "2              7         0       1   \n",
      "3             11         1       3   \n",
      "4             12         1       1   \n",
      "..           ...       ...     ...   \n",
      "178          872         1       1   \n",
      "179          873         0       1   \n",
      "180          880         1       1   \n",
      "181          888         1       1   \n",
      "182          890         1       1   \n",
      "\n",
      "                                                  Name     Sex   Age  SibSp  \\\n",
      "0    Cumings, Mrs. John Bradley (Florence Briggs Th...  female  38.0      1   \n",
      "1         Futrelle, Mrs. Jacques Heath (Lily May Peel)  female  35.0      1   \n",
      "2                              McCarthy, Mr. Timothy J    male  54.0      0   \n",
      "3                      Sandstrom, Miss. Marguerite Rut  female   4.0      1   \n",
      "4                             Bonnell, Miss. Elizabeth  female  58.0      0   \n",
      "..                                                 ...     ...   ...    ...   \n",
      "178   Beckwith, Mrs. Richard Leonard (Sallie Monypeny)  female  47.0      1   \n",
      "179                           Carlsson, Mr. Frans Olof    male  33.0      0   \n",
      "180      Potter, Mrs. Thomas Jr (Lily Alexenia Wilson)  female  56.0      0   \n",
      "181                       Graham, Miss. Margaret Edith  female  19.0      0   \n",
      "182                              Behr, Mr. Karl Howell    male  26.0      0   \n",
      "\n",
      "     Parch    Ticket     Fare        Cabin Embarked  \n",
      "0        0  PC 17599  71.2833          C85        C  \n",
      "1        0    113803  53.1000         C123        S  \n",
      "2        0     17463  51.8625          E46        S  \n",
      "3        1   PP 9549  16.7000           G6        S  \n",
      "4        0    113783  26.5500         C103        S  \n",
      "..     ...       ...      ...          ...      ...  \n",
      "178      1     11751  52.5542          D35        S  \n",
      "179      0       695   5.0000  B51 B53 B55        S  \n",
      "180      1     11767  83.1583          C50        C  \n",
      "181      0    112053  30.0000          B42        S  \n",
      "182      0    111369  30.0000         C148        C  \n",
      "\n",
      "[183 rows x 12 columns]\n"
     ]
    }
   ],
   "source": [
    "# Load the dataset\n",
    "dataset = pd.read_csv('titanic.csv')   #pd.dataFrame\n",
    "print(dataset)"
   ]
  },
  {
   "cell_type": "code",
   "execution_count": 3,
   "id": "bf6b9262-d707-4303-a02b-6c92f38deac0",
   "metadata": {},
   "outputs": [
    {
     "name": "stdout",
     "output_type": "stream",
     "text": [
      "[[1, 0], [1, 3, 2], ['female', 'male'], [1, 0, 3, 2], [0, 1, 2, 4], ['C', 'S', 'Q']]\n"
     ]
    }
   ],
   "source": [
    "# Identify the categorical data\n",
    "\n",
    "categories = [\n",
    "# dataset['PassengerId'].unique()\n",
    "list(dataset['Survived'].unique()) ,\n",
    "list(dataset['Pclass'].unique()) ,\n",
    "list(dataset['Sex'].unique()) ,\n",
    "list(dataset['SibSp'].unique()) ,\n",
    "list(dataset['Parch'].unique()) ,\n",
    "# dataset['Ticket'].unique()  \n",
    "# dataset['Fare'].unique() ,\n",
    "# dataset['Cabin'].unique() ,\n",
    "list(dataset['Embarked'].unique()) ]\n",
    "\n",
    "print(categories)"
   ]
  },
  {
   "cell_type": "code",
   "execution_count": 4,
   "id": "25273948-a67a-4627-bdb5-b27f105fb287",
   "metadata": {},
   "outputs": [
    {
     "name": "stdout",
     "output_type": "stream",
     "text": [
      "Survived\n",
      "1    123\n",
      "0     60\n",
      "Name: count, dtype: int64\n",
      "\n",
      "Pclass\n",
      "1    158\n",
      "2     15\n",
      "3     10\n",
      "Name: count, dtype: int64\n",
      "\n",
      "Sex\n",
      "male      95\n",
      "female    88\n",
      "Name: count, dtype: int64\n",
      "\n",
      "SibSp\n",
      "0    110\n",
      "1     64\n",
      "2      6\n",
      "3      3\n",
      "Name: count, dtype: int64\n",
      "\n",
      "Parch\n",
      "0    122\n",
      "1     37\n",
      "2     23\n",
      "4      1\n",
      "Name: count, dtype: int64\n",
      "\n",
      "Embarked\n",
      "S    116\n",
      "C     65\n",
      "Q      2\n",
      "Name: count, dtype: int64\n"
     ]
    }
   ],
   "source": [
    "print(dataset['Survived'].value_counts(),\n",
    "      dataset['Pclass'].value_counts(),\n",
    "      dataset['Sex'].value_counts(),\n",
    "      dataset['SibSp'].value_counts(),\n",
    "      dataset['Parch'].value_counts(),\n",
    "      dataset['Embarked'].value_counts(), sep = '\\n\\n'\n",
    "      )"
   ]
  },
  {
   "cell_type": "code",
   "execution_count": 5,
   "id": "a0c14288-c480-4c8c-84a6-22efb7701882",
   "metadata": {},
   "outputs": [
    {
     "name": "stdout",
     "output_type": "stream",
     "text": [
      "['PassengerId' 'Survived' 'Pclass' 'Name' 'Sex' 'Age' 'SibSp' 'Parch'\n",
      " 'Ticket' 'Fare' 'Cabin' 'Embarked']\n"
     ]
    }
   ],
   "source": [
    "print(dataset.columns.values)"
   ]
  },
  {
   "cell_type": "code",
   "execution_count": 17,
   "id": "2cfce4fb-e36e-4e72-8743-9306326904c4",
   "metadata": {},
   "outputs": [],
   "source": [
    "# X = dataset.iloc[:, dataset.columns != 'Survived'].values\n",
    "\n",
    "X = dataset.values     #to make np array\n",
    "y = dataset.iloc[:, 1].values"
   ]
  },
  {
   "cell_type": "code",
   "execution_count": 18,
   "id": "878a5702-64f6-4ed6-be24-8cbd79a6017d",
   "metadata": {},
   "outputs": [],
   "source": [
    "\n",
    "# Implement an instance of the ColumnTransformer class\n",
    "\n",
    "from sklearn.compose import ColumnTransformer\n",
    "from sklearn.preprocessing import OneHotEncoder\n"
   ]
  },
  {
   "cell_type": "code",
   "execution_count": 19,
   "id": "1127ce4f-b416-42b0-bf70-2d95bc58968c",
   "metadata": {},
   "outputs": [],
   "source": [
    "# Apply the fit_transform method on the instance of ColumnTransformer\n",
    "\n",
    "ct = ColumnTransformer( transformers = [('encoder', OneHotEncoder(), [4,11,2])], remainder = 'passthrough')"
   ]
  },
  {
   "cell_type": "code",
   "execution_count": 20,
   "id": "a5c7a6fa-6db7-47ac-9a53-9276115e3ff3",
   "metadata": {},
   "outputs": [
    {
     "data": {
      "text/plain": [
       "array([[1.0, 0.0, 1.0, ..., 'PC 17599', 71.2833, 'C85'],\n",
       "       [1.0, 0.0, 0.0, ..., '113803', 53.1, 'C123'],\n",
       "       [0.0, 1.0, 0.0, ..., '17463', 51.8625, 'E46'],\n",
       "       ...,\n",
       "       [1.0, 0.0, 1.0, ..., '11767', 83.1583, 'C50'],\n",
       "       [1.0, 0.0, 0.0, ..., '112053', 30.0, 'B42'],\n",
       "       [0.0, 1.0, 1.0, ..., '111369', 30.0, 'C148']], dtype=object)"
      ]
     },
     "execution_count": 20,
     "metadata": {},
     "output_type": "execute_result"
    }
   ],
   "source": [
    "\n",
    "# Convert the output into a NumPy array\n",
    "\n",
    "X = np.array(ct.fit_transform(X))\n",
    "\n",
    "X\n"
   ]
  },
  {
   "cell_type": "code",
   "execution_count": 21,
   "id": "fb9976f5-ee32-4046-ba71-a177a60d6710",
   "metadata": {},
   "outputs": [],
   "source": [
    "\n",
    "# Use LabelEncoder to encode binary categorical data\n",
    "\n",
    "from sklearn.preprocessing import LabelEncoder\n",
    "\n",
    "le = LabelEncoder()\n"
   ]
  },
  {
   "cell_type": "code",
   "execution_count": 22,
   "id": "9eed07ee-a453-409f-a167-6b21c9d1f762",
   "metadata": {},
   "outputs": [],
   "source": [
    "y = le.fit_transform(dataset['Survived'])\n"
   ]
  },
  {
   "cell_type": "code",
   "execution_count": 24,
   "id": "6982a508-a013-4831-a593-84533dda37d0",
   "metadata": {},
   "outputs": [
    {
     "name": "stdout",
     "output_type": "stream",
     "text": [
      "[[1.0 0.0 1.0 ... 'PC 17599' 71.2833 'C85']\n",
      " [1.0 0.0 0.0 ... '113803' 53.1 'C123']\n",
      " [0.0 1.0 0.0 ... '17463' 51.8625 'E46']\n",
      " ...\n",
      " [1.0 0.0 1.0 ... '11767' 83.1583 'C50']\n",
      " [1.0 0.0 0.0 ... '112053' 30.0 'B42']\n",
      " [0.0 1.0 1.0 ... '111369' 30.0 'C148']]\n",
      "[1 1 0 1 1 1 1 0 1 0 0 1 0 1 0 0 1 0 0 0 1 0 1 0 0 0 1 0 0 0 1 1 1 1 0 1 1\n",
      " 1 1 1 0 1 0 0 1 0 0 1 1 0 1 1 0 0 1 1 1 1 1 1 1 1 1 1 1 0 0 0 1 0 1 1 1 1\n",
      " 1 1 1 0 1 1 1 1 1 1 0 1 0 1 1 0 1 0 1 0 1 1 1 0 0 1 0 1 0 1 0 1 1 1 0 1 1\n",
      " 0 1 1 1 1 1 1 1 0 1 1 1 1 1 1 1 0 1 1 1 1 1 1 0 0 0 1 1 1 1 0 0 1 1 1 1 1\n",
      " 0 1 1 1 1 1 0 1 0 0 1 1 1 1 0 1 1 0 0 1 1 0 1 1 1 1 1 1 1 0 1 0 1 1 1]\n"
     ]
    }
   ],
   "source": [
    "\n",
    "# Print the updated matrix of features and the dependent variable vector\n",
    "\n",
    "print(X)\n",
    "print(y)"
   ]
  },
  {
   "cell_type": "code",
   "execution_count": null,
   "id": "d8cee568-28e6-4d4c-b7cc-cf89c39542fb",
   "metadata": {},
   "outputs": [],
   "source": []
  }
 ],
 "metadata": {
  "kernelspec": {
   "display_name": "Python 3 (ipykernel)",
   "language": "python",
   "name": "python3"
  },
  "language_info": {
   "codemirror_mode": {
    "name": "ipython",
    "version": 3
   },
   "file_extension": ".py",
   "mimetype": "text/x-python",
   "name": "python",
   "nbconvert_exporter": "python",
   "pygments_lexer": "ipython3",
   "version": "3.11.4"
  }
 },
 "nbformat": 4,
 "nbformat_minor": 5
}
